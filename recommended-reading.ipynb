{
 "cells": [
  {
   "cell_type": "markdown",
   "metadata": {},
   "source": [
    "## Recommended Links\n",
    "\n",
    "This field is rapidly evolving, with new algorithms, libraries, tutorials, and applications.  Here are some links I've found helpful, but make sure you keep searcing and reading on your own.\n",
    "\n",
    "### Data Science Weekly\n",
    "\n",
    "Data Science Weekly has a good roundup of articles on data science and machine learning related topics.  You can subscribe to the mailing list or view the archives at https://www.datascienceweekly.org.\n",
    "\n",
    "### Kaggle\n",
    "\n",
    "Kaggle runs competitions and provides data sets that can be excellent for practicing and honing your programming skills.  There is also a useful discussion board and set of tutorials at this site. https://www.kaggle.com/\n",
    "\n",
    "### scikit-learn\n",
    "The scikit-learn libray that we used in this tutorial is also an excellent learning resource.  The documentation for this library contains numerous examples, data sets, explanations, and code demonstration.  Working your way through the scikit-learn documentation isn't a bad way to learn more about machine learning and data science related algorithms.  At http://scikit-learn.org/stable/\n",
    "\n",
    "## Algorithms\n",
    "\n",
    "Here are some resources for getting deeper into the algorithms and mathematics behind supervised machine learning.  Again, consider working through the documentation at scikit-learn as well.  \n",
    "\n",
    "### Random Forests \n",
    "https://en.wikipedia.org/wiki/Random_forest\n",
    "http://blog.citizennet.com/blog/2012/11/10/random-forests-ensembles-and-performance-metrics\n",
    "https://medium.com/towards-data-science/seeing-the-random-forest-from-the-decision-trees-an-intuitive-explanation-of-random-forest-beaa2d6a0d80\n",
    "\n",
    "### Neural Nets\n",
    "http://blog.citizennet.com/blog/2012/11/10/random-forests-ensembles-and-performance-metrics\n",
    "http://www.kdnuggets.com/2015/12/how-do-neural-networks-learn.html\n",
    "\n",
    "### Logistic Regression\n",
    "http://www.kdnuggets.com/2016/08/primer-logistic-regression-part-1.html\n",
    "http://pages.cs.wisc.edu/~jerryzhu/cs838/LR.pdf\n",
    "\n",
    "### Naive Bayes\n",
    "https://en.wikipedia.org/wiki/Naive_Bayes_classifier\n",
    "http://blog.aylien.com/naive-bayes-for-dummies-a-simple-explanation/\n",
    "http://www.kdnuggets.com/2017/03/email-spam-filtering-an-implementation-with-python-and-scikit-learn.html\n",
    "\n",
    "### Support Vector Machines\n",
    "https://en.wikipedia.org/wiki/Support_vector_machine\n",
    "http://www.kdnuggets.com/2016/07/support-vector-machines-simple-explanation.html\n",
    "\n"
   ]
  },
  {
   "cell_type": "code",
   "execution_count": null,
   "metadata": {
    "collapsed": true
   },
   "outputs": [],
   "source": []
  }
 ],
 "metadata": {
  "kernelspec": {
   "display_name": "Python 3",
   "language": "python",
   "name": "python3"
  },
  "language_info": {
   "codemirror_mode": {
    "name": "ipython",
    "version": 3
   },
   "file_extension": ".py",
   "mimetype": "text/x-python",
   "name": "python",
   "nbconvert_exporter": "python",
   "pygments_lexer": "ipython3",
   "version": "3.6.0"
  }
 },
 "nbformat": 4,
 "nbformat_minor": 2
}
